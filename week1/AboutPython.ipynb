{
 "cells": [
  {
   "cell_type": "markdown",
   "metadata": {},
   "source": [
    "## About Python, NumPy, and Ipython\n",
    "\n",
    "Here we will a brief acquaintance with the [Python](https://www.python.org/) programming language, and particular <font color=\"red\">list comprehensions</font>, [NumPy](http://www.numpy.org/) and [MatplotLib](http://matplotlib.org/) from the [scipy](https://scipy.org/) ecosystem, as a language for machine learning. We will be using Python 3 here, which is not compatible with Python 2.x. For an introduction to Python the [Python Tutorial](https://docs.python.org/3.5/tutorial/index.html) is a great place to start; Similarly for [Getting Started](http://scipy.org/getting-started.html) with the Numpy and Matplotlib good places to start are the Numpy [Quickstart tutorial](http://docs.scipy.org/doc/numpy-dev/user/quickstart.html) and the [pyplot tutorial](http://matplotlib.org/users/pyplot_tutorial.html). If you have earlier experience with MATLAB, then the [Numpy for Matlab users](https://docs.scipy.org/doc/numpy-dev/user/numpy-for-matlab-users.html) document is a useful reference.\n",
    "\n",
    "Use [IPython](http://ipython.readthedocs.io/en/stable/) to develop and test your code.\n",
    "\n"
   ]
  },
  {
   "cell_type": "code",
   "execution_count": 1,
   "metadata": {},
   "outputs": [
    {
     "name": "stdout",
     "output_type": "stream",
     "text": [
      "Im not in the function\n",
      "hello world!\n",
      "hello world from HelloWorld Class! - __init__ is my constructor\n",
      "Chuck Berry\n",
      "1\n",
      "2\n",
      "3\n",
      "4\n",
      "5\n",
      "[1, 3, 5, 7, 9]\n",
      "lets make a list: [1, 2, 3, 4, 5, 6, 7]\n",
      "lets make a set: {1, 2, 3, 4, 42}\n",
      "lets make a map: {1: 2, 2: 3, '3': 4}\n",
      "square of odd [1, 9, 25, 49, 81]\n",
      "odd to square odd dict: {1: 1, 3: 9, 5: 25, 7: 49, 9: 81}\n",
      "what is the square of 3: 9\n",
      "Lets move on to numpy - the main library used for manipulating vectors and matrices in python\n"
     ]
    }
   ],
   "source": [
    "# magic notebook command ensures plot are embedded in the notebook\n",
    "%matplotlib inline \n",
    "\n",
    "# the hello world of python. Notice the : and indentation that define the code \n",
    "def helloworld():\n",
    "    print('hello world!')\n",
    "    \n",
    "\n",
    "print('Im not in the function')\n",
    "\n",
    "helloworld()\n",
    "# Classes\n",
    "class HelloWorld():\n",
    "    \n",
    "    def __init__(self):\n",
    "        self.text = 'hello world from HelloWorld Class! - __init__ is my constructor'\n",
    "\n",
    "    def johnny_be_good(self): # self is the object itself do not forget\n",
    "        print('Chuck Berry')\n",
    "c = HelloWorld()\n",
    "print(c.text)\n",
    "c.johnny_be_good()\n",
    "\n",
    "# lets print numbers from 1 -> 5. Notice range goes to 6\n",
    "for x in range(1, 6):\n",
    "    print(x)\n",
    "# odd numbers from 1, 10\n",
    "odd = list(range(1, 10, 2))\n",
    "print(odd)\n",
    "letsmakealist = [1, 2, 3, 4, 5, 6, 7]\n",
    "print('lets make a list:', letsmakealist)\n",
    "letsmakeaset = {1, 1, 1, 2, 3, 2, 1, 2, 3, 1, 4, 42}\n",
    "print('lets make a set:', letsmakeaset)\n",
    "letsmakeadictionary = {1:2, 2:3, '3':4}\n",
    "print('lets make a map:', letsmakeadictionary)\n",
    "# lets compute the square of each odd number with list comprehension\n",
    "sq = [x**2 for x in odd]\n",
    "print('square of odd', sq) # pretty cool\n",
    "# lets make a map from x to x^2 using dictionary comprehension (zip allows to iterate over several iterables at once)\n",
    "od_sq_dict = {x:y for x, y in zip(odd, sq)}\n",
    "print('odd to square odd dict:', od_sq_dict)\n",
    "print('what is the square of 3:', od_sq_dict[3])\n",
    "print('Lets move on to numpy - the main library used for manipulating vectors and matrices in python')"
   ]
  },
  {
   "cell_type": "code",
   "execution_count": 2,
   "metadata": {},
   "outputs": [
    {
     "name": "stdout",
     "output_type": "stream",
     "text": [
      "What is X[0,0]: 1.0\n",
      "First 3 rows and columns of dat:\n",
      "[[ 1.  1.  1.]\n",
      " [ 1.  1. 32.]\n",
      " [ 1.  1.  1.]]\n"
     ]
    },
    {
     "data": {
      "text/plain": "[<matplotlib.lines.Line2D at 0x7fa42b85e970>]"
     },
     "metadata": {},
     "output_type": "execute_result"
    },
    {
     "data": {
      "image/png": "[encoded data removed]",
      "image/svg+xml": "<?xml version=\"1.0\" encoding=\"utf-8\" standalone=\"no\"?>\n<!DOCTYPE svg PUBLIC \"-//W3C//DTD SVG 1.1//EN\"\n  \"http://www.w3.org/Graphics/SVG/1.1/DTD/svg11.dtd\">\n<!-- Created with matplotlib (https://matplotlib.org/) -->\n<svg height=\"248.518125pt\" version=\"1.1\" viewBox=\"0 0 368.925 248.518125\" width=\"368.925pt\" xmlns=\"http://www.w3.org/2000/svg\" xmlns:xlink=\"http://www.w3.org/1999/xlink\">\n <defs>\n  <style type=\"text/css\">\n*{stroke-linecap:butt;stroke-linejoin:round;}\n  </style>\n </defs>\n <g id=\"figure_1\">\n  <g id=\"patch_1\">\n   <path d=\"M -0 248.518125 \nL 368.925 248.518125 \nL 368.925 0 \nL -0 0 \nz\n\" style=\"fill:none;\"/>\n  </g>\n  <g id=\"axes_1\">\n   <g id=\"patch_2\">\n    <path d=\"M 26.925 224.64 \nL 361.725 224.64 \nL 361.725 7.2 \nL 26.925 7.2 \nz\n\" style=\"fill:#ffffff;\"/>\n   </g>\n   <g id=\"matplotlib.axis_1\">\n    <g id=\"xtick_1\">\n     <g id=\"line2d_1\">\n      <defs>\n       <path d=\"M 0 0 \nL 0 3.5 \n\" id=\"m60975fd5a6\" style=\"stroke:#000000;stroke-width:0.8;\"/>\n      </defs>\n      <g>\n       <use style=\"stroke:#000000;stroke-width:0.8;\" x=\"42.143182\" xlink:href=\"#m60975fd5a6\" y=\"224.64\"/>\n      </g>\n     </g>\n     <g id=\"text_1\">\n      <!-- 1 -->\n      <defs>\n       <path d=\"M 12.40625 8.296875 \nL 28.515625 8.296875 \nL 28.515625 63.921875 \nL 10.984375 60.40625 \nL 10.984375 69.390625 \nL 28.421875 72.90625 \nL 38.28125 72.90625 \nL 38.28125 8.296875 \nL 54.390625 8.296875 \nL 54.390625 0 \nL 12.40625 0 \nz\n\" id=\"DejaVuSans-49\"/>\n      </defs>\n      <g transform=\"translate(38.961932 239.238438)scale(0.1 -0.1)\">\n       <use xlink:href=\"#DejaVuSans-49\"/>\n      </g>\n     </g>\n    </g>\n    <g id=\"xtick_2\">\n     <g id=\"line2d_2\">\n      <g>\n       <use style=\"stroke:#000000;stroke-width:0.8;\" x=\"80.188636\" xlink:href=\"#m60975fd5a6\" y=\"224.64\"/>\n      </g>\n     </g>\n     <g id=\"text_2\">\n      <!-- 2 -->\n      <defs>\n       <path d=\"M 19.1875 8.296875 \nL 53.609375 8.296875 \nL 53.609375 0 \nL 7.328125 0 \nL 7.328125 8.296875 \nQ 12.9375 14.109375 22.625 23.890625 \nQ 32.328125 33.6875 34.8125 36.53125 \nQ 39.546875 41.84375 41.421875 45.53125 \nQ 43.3125 49.21875 43.3125 52.78125 \nQ 43.3125 58.59375 39.234375 62.25 \nQ 35.15625 65.921875 28.609375 65.921875 \nQ 23.96875 65.921875 18.8125 64.3125 \nQ 13.671875 62.703125 7.8125 59.421875 \nL 7.8125 69.390625 \nQ 13.765625 71.78125 18.9375 73 \nQ 24.125 74.21875 28.421875 74.21875 \nQ 39.75 74.21875 46.484375 68.546875 \nQ 53.21875 62.890625 53.21875 53.421875 \nQ 53.21875 48.921875 51.53125 44.890625 \nQ 49.859375 40.875 45.40625 35.40625 \nQ 44.1875 33.984375 37.640625 27.21875 \nQ 31.109375 20.453125 19.1875 8.296875 \nz\n\" id=\"DejaVuSans-50\"/>\n      </defs>\n      <g transform=\"translate(77.007386 239.238438)scale(0.1 -0.1)\">\n       <use xlink:href=\"#DejaVuSans-50\"/>\n      </g>\n     </g>\n    </g>\n    <g id=\"xtick_3\">\n     <g id=\"line2d_3\">\n      <g>\n       <use style=\"stroke:#000000;stroke-width:0.8;\" x=\"118.234091\" xlink:href=\"#m60975fd5a6\" y=\"224.64\"/>\n      </g>\n     </g>\n     <g id=\"text_3\">\n      <!-- 3 -->\n      <defs>\n       <path d=\"M 40.578125 39.3125 \nQ 47.65625 37.796875 51.625 33 \nQ 55.609375 28.21875 55.609375 21.1875 \nQ 55.609375 10.40625 48.1875 4.484375 \nQ 40.765625 -1.421875 27.09375 -1.421875 \nQ 22.515625 -1.421875 17.65625 -0.515625 \nQ 12.796875 0.390625 7.625 2.203125 \nL 7.625 11.71875 \nQ 11.71875 9.328125 16.59375 8.109375 \nQ 21.484375 6.890625 26.8125 6.890625 \nQ 36.078125 6.890625 40.9375 10.546875 \nQ 45.796875 14.203125 45.796875 21.1875 \nQ 45.796875 27.640625 41.28125 31.265625 \nQ 36.765625 34.90625 28.71875 34.90625 \nL 20.21875 34.90625 \nL 20.21875 43.015625 \nL 29.109375 43.015625 \nQ 36.375 43.015625 40.234375 45.921875 \nQ 44.09375 48.828125 44.09375 54.296875 \nQ 44.09375 59.90625 40.109375 62.90625 \nQ 36.140625 65.921875 28.71875 65.921875 \nQ 24.65625 65.921875 20.015625 65.03125 \nQ 15.375 64.15625 9.8125 62.3125 \nL 9.8125 71.09375 \nQ 15.4375 72.65625 20.34375 73.4375 \nQ 25.25 74.21875 29.59375 74.21875 \nQ 40.828125 74.21875 47.359375 69.109375 \nQ 53.90625 64.015625 53.90625 55.328125 \nQ 53.90625 49.265625 50.4375 45.09375 \nQ 46.96875 40.921875 40.578125 39.3125 \nz\n\" id=\"DejaVuSans-51\"/>\n      </defs>\n      <g transform=\"translate(115.052841 239.238438)scale(0.1 -0.1)\">\n       <use xlink:href=\"#DejaVuSans-51\"/>\n      </g>\n     </g>\n    </g>\n    <g id=\"xtick_4\">\n     <g id=\"line2d_4\">\n      <g>\n       <use style=\"stroke:#000000;stroke-width:0.8;\" x=\"156.279545\" xlink:href=\"#m60975fd5a6\" y=\"224.64\"/>\n      </g>\n     </g>\n     <g id=\"text_4\">\n      <!-- 4 -->\n      <defs>\n       <path d=\"M 37.796875 64.3125 \nL 12.890625 25.390625 \nL 37.796875 25.390625 \nz\nM 35.203125 72.90625 \nL 47.609375 72.90625 \nL 47.609375 25.390625 \nL 58.015625 25.390625 \nL 58.015625 17.1875 \nL 47.609375 17.1875 \nL 47.609375 0 \nL 37.796875 0 \nL 37.796875 17.1875 \nL 4.890625 17.1875 \nL 4.890625 26.703125 \nz\n\" id=\"DejaVuSans-52\"/>\n      </defs>\n      <g transform=\"translate(153.098295 239.238438)scale(0.1 -0.1)\">\n       <use xlink:href=\"#DejaVuSans-52\"/>\n      </g>\n     </g>\n    </g>\n    <g id=\"xtick_5\">\n     <g id=\"line2d_5\">\n      <g>\n       <use style=\"stroke:#000000;stroke-width:0.8;\" x=\"194.325\" xlink:href=\"#m60975fd5a6\" y=\"224.64\"/>\n      </g>\n     </g>\n     <g id=\"text_5\">\n      <!-- 5 -->\n      <defs>\n       <path d=\"M 10.796875 72.90625 \nL 49.515625 72.90625 \nL 49.515625 64.59375 \nL 19.828125 64.59375 \nL 19.828125 46.734375 \nQ 21.96875 47.46875 24.109375 47.828125 \nQ 26.265625 48.1875 28.421875 48.1875 \nQ 40.625 48.1875 47.75 41.5 \nQ 54.890625 34.8125 54.890625 23.390625 \nQ 54.890625 11.625 47.5625 5.09375 \nQ 40.234375 -1.421875 26.90625 -1.421875 \nQ 22.3125 -1.421875 17.546875 -0.640625 \nQ 12.796875 0.140625 7.71875 1.703125 \nL 7.71875 11.625 \nQ 12.109375 9.234375 16.796875 8.0625 \nQ 21.484375 6.890625 26.703125 6.890625 \nQ 35.15625 6.890625 40.078125 11.328125 \nQ 45.015625 15.765625 45.015625 23.390625 \nQ 45.015625 31 40.078125 35.4375 \nQ 35.15625 39.890625 26.703125 39.890625 \nQ 22.75 39.890625 18.8125 39.015625 \nQ 14.890625 38.140625 10.796875 36.28125 \nz\n\" id=\"DejaVuSans-53\"/>\n      </defs>\n      <g transform=\"translate(191.14375 239.238438)scale(0.1 -0.1)\">\n       <use xlink:href=\"#DejaVuSans-53\"/>\n      </g>\n     </g>\n    </g>\n    <g id=\"xtick_6\">\n     <g id=\"line2d_6\">\n      <g>\n       <use style=\"stroke:#000000;stroke-width:0.8;\" x=\"232.370455\" xlink:href=\"#m60975fd5a6\" y=\"224.64\"/>\n      </g>\n     </g>\n     <g id=\"text_6\">\n      <!-- 6 -->\n      <defs>\n       <path d=\"M 33.015625 40.375 \nQ 26.375 40.375 22.484375 35.828125 \nQ 18.609375 31.296875 18.609375 23.390625 \nQ 18.609375 15.53125 22.484375 10.953125 \nQ 26.375 6.390625 33.015625 6.390625 \nQ 39.65625 6.390625 43.53125 10.953125 \nQ 47.40625 15.53125 47.40625 23.390625 \nQ 47.40625 31.296875 43.53125 35.828125 \nQ 39.65625 40.375 33.015625 40.375 \nz\nM 52.59375 71.296875 \nL 52.59375 62.3125 \nQ 48.875 64.0625 45.09375 64.984375 \nQ 41.3125 65.921875 37.59375 65.921875 \nQ 27.828125 65.921875 22.671875 59.328125 \nQ 17.53125 52.734375 16.796875 39.40625 \nQ 19.671875 43.65625 24.015625 45.921875 \nQ 28.375 48.1875 33.59375 48.1875 \nQ 44.578125 48.1875 50.953125 41.515625 \nQ 57.328125 34.859375 57.328125 23.390625 \nQ 57.328125 12.15625 50.6875 5.359375 \nQ 44.046875 -1.421875 33.015625 -1.421875 \nQ 20.359375 -1.421875 13.671875 8.265625 \nQ 6.984375 17.96875 6.984375 36.375 \nQ 6.984375 53.65625 15.1875 63.9375 \nQ 23.390625 74.21875 37.203125 74.21875 \nQ 40.921875 74.21875 44.703125 73.484375 \nQ 48.484375 72.75 52.59375 71.296875 \nz\n\" id=\"DejaVuSans-54\"/>\n      </defs>\n      <g transform=\"translate(229.189205 239.238438)scale(0.1 -0.1)\">\n       <use xlink:href=\"#DejaVuSans-54\"/>\n      </g>\n     </g>\n    </g>\n    <g id=\"xtick_7\">\n     <g id=\"line2d_7\">\n      <g>\n       <use style=\"stroke:#000000;stroke-width:0.8;\" x=\"270.415909\" xlink:href=\"#m60975fd5a6\" y=\"224.64\"/>\n      </g>\n     </g>\n     <g id=\"text_7\">\n      <!-- 7 -->\n      <defs>\n       <path d=\"M 8.203125 72.90625 \nL 55.078125 72.90625 \nL 55.078125 68.703125 \nL 28.609375 0 \nL 18.3125 0 \nL 43.21875 64.59375 \nL 8.203125 64.59375 \nz\n\" id=\"DejaVuSans-55\"/>\n      </defs>\n      <g transform=\"translate(267.234659 239.238438)scale(0.1 -0.1)\">\n       <use xlink:href=\"#DejaVuSans-55\"/>\n      </g>\n     </g>\n    </g>\n    <g id=\"xtick_8\">\n     <g id=\"line2d_8\">\n      <g>\n       <use style=\"stroke:#000000;stroke-width:0.8;\" x=\"308.461364\" xlink:href=\"#m60975fd5a6\" y=\"224.64\"/>\n      </g>\n     </g>\n     <g id=\"text_8\">\n      <!-- 8 -->\n      <defs>\n       <path d=\"M 31.78125 34.625 \nQ 24.75 34.625 20.71875 30.859375 \nQ 16.703125 27.09375 16.703125 20.515625 \nQ 16.703125 13.921875 20.71875 10.15625 \nQ 24.75 6.390625 31.78125 6.390625 \nQ 38.8125 6.390625 42.859375 10.171875 \nQ 46.921875 13.96875 46.921875 20.515625 \nQ 46.921875 27.09375 42.890625 30.859375 \nQ 38.875 34.625 31.78125 34.625 \nz\nM 21.921875 38.8125 \nQ 15.578125 40.375 12.03125 44.71875 \nQ 8.5 49.078125 8.5 55.328125 \nQ 8.5 64.0625 14.71875 69.140625 \nQ 20.953125 74.21875 31.78125 74.21875 \nQ 42.671875 74.21875 48.875 69.140625 \nQ 55.078125 64.0625 55.078125 55.328125 \nQ 55.078125 49.078125 51.53125 44.71875 \nQ 48 40.375 41.703125 38.8125 \nQ 48.828125 37.15625 52.796875 32.3125 \nQ 56.78125 27.484375 56.78125 20.515625 \nQ 56.78125 9.90625 50.3125 4.234375 \nQ 43.84375 -1.421875 31.78125 -1.421875 \nQ 19.734375 -1.421875 13.25 4.234375 \nQ 6.78125 9.90625 6.78125 20.515625 \nQ 6.78125 27.484375 10.78125 32.3125 \nQ 14.796875 37.15625 21.921875 38.8125 \nz\nM 18.3125 54.390625 \nQ 18.3125 48.734375 21.84375 45.5625 \nQ 25.390625 42.390625 31.78125 42.390625 \nQ 38.140625 42.390625 41.71875 45.5625 \nQ 45.3125 48.734375 45.3125 54.390625 \nQ 45.3125 60.0625 41.71875 63.234375 \nQ 38.140625 66.40625 31.78125 66.40625 \nQ 25.390625 66.40625 21.84375 63.234375 \nQ 18.3125 60.0625 18.3125 54.390625 \nz\n\" id=\"DejaVuSans-56\"/>\n      </defs>\n      <g transform=\"translate(305.280114 239.238438)scale(0.1 -0.1)\">\n       <use xlink:href=\"#DejaVuSans-56\"/>\n      </g>\n     </g>\n    </g>\n    <g id=\"xtick_9\">\n     <g id=\"line2d_9\">\n      <g>\n       <use style=\"stroke:#000000;stroke-width:0.8;\" x=\"346.506818\" xlink:href=\"#m60975fd5a6\" y=\"224.64\"/>\n      </g>\n     </g>\n     <g id=\"text_9\">\n      <!-- 9 -->\n      <defs>\n       <path d=\"M 10.984375 1.515625 \nL 10.984375 10.5 \nQ 14.703125 8.734375 18.5 7.8125 \nQ 22.3125 6.890625 25.984375 6.890625 \nQ 35.75 6.890625 40.890625 13.453125 \nQ 46.046875 20.015625 46.78125 33.40625 \nQ 43.953125 29.203125 39.59375 26.953125 \nQ 35.25 24.703125 29.984375 24.703125 \nQ 19.046875 24.703125 12.671875 31.3125 \nQ 6.296875 37.9375 6.296875 49.421875 \nQ 6.296875 60.640625 12.9375 67.421875 \nQ 19.578125 74.21875 30.609375 74.21875 \nQ 43.265625 74.21875 49.921875 64.515625 \nQ 56.59375 54.828125 56.59375 36.375 \nQ 56.59375 19.140625 48.40625 8.859375 \nQ 40.234375 -1.421875 26.421875 -1.421875 \nQ 22.703125 -1.421875 18.890625 -0.6875 \nQ 15.09375 0.046875 10.984375 1.515625 \nz\nM 30.609375 32.421875 \nQ 37.25 32.421875 41.125 36.953125 \nQ 45.015625 41.5 45.015625 49.421875 \nQ 45.015625 57.28125 41.125 61.84375 \nQ 37.25 66.40625 30.609375 66.40625 \nQ 23.96875 66.40625 20.09375 61.84375 \nQ 16.21875 57.28125 16.21875 49.421875 \nQ 16.21875 41.5 20.09375 36.953125 \nQ 23.96875 32.421875 30.609375 32.421875 \nz\n\" id=\"DejaVuSans-57\"/>\n      </defs>\n      <g transform=\"translate(343.325568 239.238438)scale(0.1 -0.1)\">\n       <use xlink:href=\"#DejaVuSans-57\"/>\n      </g>\n     </g>\n    </g>\n   </g>\n   <g id=\"matplotlib.axis_2\">\n    <g id=\"ytick_1\">\n     <g id=\"line2d_10\">\n      <defs>\n       <path d=\"M 0 0 \nL -3.5 0 \n\" id=\"mdd0b19761a\" style=\"stroke:#000000;stroke-width:0.8;\"/>\n      </defs>\n      <g>\n       <use style=\"stroke:#000000;stroke-width:0.8;\" x=\"26.925\" xlink:href=\"#mdd0b19761a\" y=\"217.227273\"/>\n      </g>\n     </g>\n     <g id=\"text_10\">\n      <!-- 0 -->\n      <defs>\n       <path d=\"M 31.78125 66.40625 \nQ 24.171875 66.40625 20.328125 58.90625 \nQ 16.5 51.421875 16.5 36.375 \nQ 16.5 21.390625 20.328125 13.890625 \nQ 24.171875 6.390625 31.78125 6.390625 \nQ 39.453125 6.390625 43.28125 13.890625 \nQ 47.125 21.390625 47.125 36.375 \nQ 47.125 51.421875 43.28125 58.90625 \nQ 39.453125 66.40625 31.78125 66.40625 \nz\nM 31.78125 74.21875 \nQ 44.046875 74.21875 50.515625 64.515625 \nQ 56.984375 54.828125 56.984375 36.375 \nQ 56.984375 17.96875 50.515625 8.265625 \nQ 44.046875 -1.421875 31.78125 -1.421875 \nQ 19.53125 -1.421875 13.0625 8.265625 \nQ 6.59375 17.96875 6.59375 36.375 \nQ 6.59375 54.828125 13.0625 64.515625 \nQ 19.53125 74.21875 31.78125 74.21875 \nz\n\" id=\"DejaVuSans-48\"/>\n      </defs>\n      <g transform=\"translate(13.5625 221.026491)scale(0.1 -0.1)\">\n       <use xlink:href=\"#DejaVuSans-48\"/>\n      </g>\n     </g>\n    </g>\n    <g id=\"ytick_2\">\n     <g id=\"line2d_11\">\n      <g>\n       <use style=\"stroke:#000000;stroke-width:0.8;\" x=\"26.925\" xlink:href=\"#mdd0b19761a\" y=\"192.518182\"/>\n      </g>\n     </g>\n     <g id=\"text_11\">\n      <!-- 10 -->\n      <g transform=\"translate(7.2 196.317401)scale(0.1 -0.1)\">\n       <use xlink:href=\"#DejaVuSans-49\"/>\n       <use x=\"63.623047\" xlink:href=\"#DejaVuSans-48\"/>\n      </g>\n     </g>\n    </g>\n    <g id=\"ytick_3\">\n     <g id=\"line2d_12\">\n      <g>\n       <use style=\"stroke:#000000;stroke-width:0.8;\" x=\"26.925\" xlink:href=\"#mdd0b19761a\" y=\"167.809091\"/>\n      </g>\n     </g>\n     <g id=\"text_12\">\n      <!-- 20 -->\n      <g transform=\"translate(7.2 171.60831)scale(0.1 -0.1)\">\n       <use xlink:href=\"#DejaVuSans-50\"/>\n       <use x=\"63.623047\" xlink:href=\"#DejaVuSans-48\"/>\n      </g>\n     </g>\n    </g>\n    <g id=\"ytick_4\">\n     <g id=\"line2d_13\">\n      <g>\n       <use style=\"stroke:#000000;stroke-width:0.8;\" x=\"26.925\" xlink:href=\"#mdd0b19761a\" y=\"143.1\"/>\n      </g>\n     </g>\n     <g id=\"text_13\">\n      <!-- 30 -->\n      <g transform=\"translate(7.2 146.899219)scale(0.1 -0.1)\">\n       <use xlink:href=\"#DejaVuSans-51\"/>\n       <use x=\"63.623047\" xlink:href=\"#DejaVuSans-48\"/>\n      </g>\n     </g>\n    </g>\n    <g id=\"ytick_5\">\n     <g id=\"line2d_14\">\n      <g>\n       <use style=\"stroke:#000000;stroke-width:0.8;\" x=\"26.925\" xlink:href=\"#mdd0b19761a\" y=\"118.390909\"/>\n      </g>\n     </g>\n     <g id=\"text_14\">\n      <!-- 40 -->\n      <g transform=\"translate(7.2 122.190128)scale(0.1 -0.1)\">\n       <use xlink:href=\"#DejaVuSans-52\"/>\n       <use x=\"63.623047\" xlink:href=\"#DejaVuSans-48\"/>\n      </g>\n     </g>\n    </g>\n    <g id=\"ytick_6\">\n     <g id=\"line2d_15\">\n      <g>\n       <use style=\"stroke:#000000;stroke-width:0.8;\" x=\"26.925\" xlink:href=\"#mdd0b19761a\" y=\"93.681818\"/>\n      </g>\n     </g>\n     <g id=\"text_15\">\n      <!-- 50 -->\n      <g transform=\"translate(7.2 97.481037)scale(0.1 -0.1)\">\n       <use xlink:href=\"#DejaVuSans-53\"/>\n       <use x=\"63.623047\" xlink:href=\"#DejaVuSans-48\"/>\n      </g>\n     </g>\n    </g>\n    <g id=\"ytick_7\">\n     <g id=\"line2d_16\">\n      <g>\n       <use style=\"stroke:#000000;stroke-width:0.8;\" x=\"26.925\" xlink:href=\"#mdd0b19761a\" y=\"68.972727\"/>\n      </g>\n     </g>\n     <g id=\"text_16\">\n      <!-- 60 -->\n      <g transform=\"translate(7.2 72.771946)scale(0.1 -0.1)\">\n       <use xlink:href=\"#DejaVuSans-54\"/>\n       <use x=\"63.623047\" xlink:href=\"#DejaVuSans-48\"/>\n      </g>\n     </g>\n    </g>\n    <g id=\"ytick_8\">\n     <g id=\"line2d_17\">\n      <g>\n       <use style=\"stroke:#000000;stroke-width:0.8;\" x=\"26.925\" xlink:href=\"#mdd0b19761a\" y=\"44.263636\"/>\n      </g>\n     </g>\n     <g id=\"text_17\">\n      <!-- 70 -->\n      <g transform=\"translate(7.2 48.062855)scale(0.1 -0.1)\">\n       <use xlink:href=\"#DejaVuSans-55\"/>\n       <use x=\"63.623047\" xlink:href=\"#DejaVuSans-48\"/>\n      </g>\n     </g>\n    </g>\n    <g id=\"ytick_9\">\n     <g id=\"line2d_18\">\n      <g>\n       <use style=\"stroke:#000000;stroke-width:0.8;\" x=\"26.925\" xlink:href=\"#mdd0b19761a\" y=\"19.554545\"/>\n      </g>\n     </g>\n     <g id=\"text_18\">\n      <!-- 80 -->\n      <g transform=\"translate(7.2 23.353764)scale(0.1 -0.1)\">\n       <use xlink:href=\"#DejaVuSans-56\"/>\n       <use x=\"63.623047\" xlink:href=\"#DejaVuSans-48\"/>\n      </g>\n     </g>\n    </g>\n   </g>\n   <g id=\"line2d_19\">\n    <path clip-path=\"url(#p2bf6655405)\" d=\"M 42.143182 214.756364 \nL 118.234091 194.989091 \nL 194.325 155.454545 \nL 270.415909 96.152727 \nL 346.506818 17.083636 \n\" style=\"fill:none;stroke:#ff0000;stroke-linecap:square;stroke-width:1.5;\"/>\n    <defs>\n     <path d=\"M 0 -3 \nL -0.673542 -0.927051 \nL -2.85317 -0.927051 \nL -1.089814 0.354102 \nL -1.763356 2.427051 \nL -0 1.145898 \nL 1.763356 2.427051 \nL 1.089814 0.354102 \nL 2.85317 -0.927051 \nL 0.673542 -0.927051 \nz\n\" id=\"mbceb9d94e5\" style=\"stroke:#ff0000;stroke-linejoin:bevel;\"/>\n    </defs>\n    <g clip-path=\"url(#p2bf6655405)\">\n     <use style=\"fill:#ff0000;stroke:#ff0000;stroke-linejoin:bevel;\" x=\"42.143182\" xlink:href=\"#mbceb9d94e5\" y=\"214.756364\"/>\n     <use style=\"fill:#ff0000;stroke:#ff0000;stroke-linejoin:bevel;\" x=\"118.234091\" xlink:href=\"#mbceb9d94e5\" y=\"194.989091\"/>\n     <use style=\"fill:#ff0000;stroke:#ff0000;stroke-linejoin:bevel;\" x=\"194.325\" xlink:href=\"#mbceb9d94e5\" y=\"155.454545\"/>\n     <use style=\"fill:#ff0000;stroke:#ff0000;stroke-linejoin:bevel;\" x=\"270.415909\" xlink:href=\"#mbceb9d94e5\" y=\"96.152727\"/>\n     <use style=\"fill:#ff0000;stroke:#ff0000;stroke-linejoin:bevel;\" x=\"346.506818\" xlink:href=\"#mbceb9d94e5\" y=\"17.083636\"/>\n    </g>\n   </g>\n   <g id=\"patch_3\">\n    <path d=\"M 26.925 224.64 \nL 26.925 7.2 \n\" style=\"fill:none;stroke:#000000;stroke-linecap:square;stroke-linejoin:miter;stroke-width:0.8;\"/>\n   </g>\n   <g id=\"patch_4\">\n    <path d=\"M 361.725 224.64 \nL 361.725 7.2 \n\" style=\"fill:none;stroke:#000000;stroke-linecap:square;stroke-linejoin:miter;stroke-width:0.8;\"/>\n   </g>\n   <g id=\"patch_5\">\n    <path d=\"M 26.925 224.64 \nL 361.725 224.64 \n\" style=\"fill:none;stroke:#000000;stroke-linecap:square;stroke-linejoin:miter;stroke-width:0.8;\"/>\n   </g>\n   <g id=\"patch_6\">\n    <path d=\"M 26.925 7.2 \nL 361.725 7.2 \n\" style=\"fill:none;stroke:#000000;stroke-linecap:square;stroke-linejoin:miter;stroke-width:0.8;\"/>\n   </g>\n  </g>\n </g>\n <defs>\n  <clipPath id=\"p2bf6655405\">\n   <rect height=\"217.44\" width=\"334.8\" x=\"26.925\" y=\"7.2\"/>\n  </clipPath>\n </defs>\n</svg>\n",
      "text/plain": "<Figure size 432x288 with 1 Axes>"
     },
     "metadata": {
      "needs_background": "light",
      "transient": {}
     },
     "output_type": "display_data"
    }
   ],
   "source": [
    "%matplotlib inline\n",
    "import numpy as np\n",
    "import matplotlib.pyplot as plt\n",
    "\n",
    "# Numpy is the module we use for working with matrices and vectors eficiently in python \n",
    "# There are several ways of creating numpy arrays. Here is a way of making a lot of ones in a matrix.\n",
    "dat = np.ones((7,3))\n",
    "dat[1,2] = 32\n",
    "# NumPy arrays are indexes from 0. X1[0,0] is the first value of the first input point (and should be 1)\n",
    "print('What is X[0,0]: {0}'.format(dat[0,0]))\n",
    "\n",
    "# We can also index rows and columns of the NumPy array. For instance the first column is X1[:,0]\n",
    "# Here : indexes all rows and 0 indexes the first colums. This notation also supports ranges natually.\n",
    "# As an example lets see the first 3 rows and columns\n",
    "print(\"First 3 rows and columns of dat:\")\n",
    "print(dat[0:3,0:3])\n",
    "\n",
    "## Loading and saving data\n",
    "# We can load and save NumPy arrays using the commands load and savez\n",
    "target = -1 * np.ones((7,))\n",
    "np.savez('myfile.npz', dat=dat, target=target)\n",
    "myfile = np.load('myfile.npz')\n",
    "dat = myfile['dat']\n",
    "target = myfile['target']\n",
    "\n",
    "## finally plotting lets plot the odd square from above in red with lines connecting and stars as markers\n",
    "plt.plot(odd, sq, 'r-*')"
   ]
  },
  {
   "cell_type": "markdown",
   "metadata": {},
   "source": [
    "## Array operations and Boolean arrays (aka filters)\n",
    "Numpy arrays are very handy for doing arithmetic on vectors and matrices \n",
    "and lets you succinctly express the computation you need performed.\n",
    "Understanding how to use them will make your life a lot easier in this machine learning course.\n",
    "\n",
    "From Boolean expressions used on NumPy arrays we can compute arrays of Booleans. This is sometimes also called a *filter*. The reason for this is that we can use a Boolean array for indexing another array. We can also extract an array of the true indices of a filter. This can be useful in conjunction with np.random.choice"
   ]
  },
  {
   "cell_type": "code",
   "execution_count": 4,
   "metadata": {},
   "outputs": [
    {
     "name": "stdout",
     "output_type": "stream",
     "text": [
      "my_array: [1. 2. 3.]\n",
      "my_array + 2: [3. 4. 5.]\n",
      "my_array*3 + 4 [ 7. 10. 13.]\n",
      "my_array + my_array [2. 4. 6.]\n",
      "my_array.min() 1.0\n",
      "[-1  1  1 -1  1 -1  1 -1 -1 -1]\n",
      "[False  True  True False  True False  True False False False]\n",
      "[0 1 1 0 1 0 1 0 0 0]\n",
      "[1 2 4 6]\n",
      "Random index of a 1 entry of y: 4\n"
     ]
    }
   ],
   "source": [
    "# simple array\n",
    "my_array = np.array([1.0, 2.0, 3.0]) # create an array\n",
    "print('my_array:', my_array) # print it\n",
    "\n",
    "ex1 = my_array + 2 # vectorized computation - add 2 to all enties\n",
    "print('my_array + 2:', ex1)\n",
    "ex2 = my_array *3 + 4 # vectorized computation - multiply each entry by 3 and add 4\n",
    "print('my_array*3 + 4', ex2)\n",
    "ex3 = my_array + my_array # add up entries in array entrywise \n",
    "print('my_array + my_array', ex3)\n",
    "ex4 = my_array.min() # arrays support many standard operations, min, max, sum, mean, ....\n",
    "print('my_array.min()', ex4)\n",
    "##\n",
    "# random array of -1,1 values\n",
    "y = 2*np.random.randint(2, size=10)-1\n",
    "# construct filter for indices with value 1\n",
    "pos = (y==1)\n",
    "# get array of true indices\n",
    "indices = pos.nonzero()[0]\n",
    "# the array y\n",
    "print(y)\n",
    "# the filter obtained from y\n",
    "print(pos)\n",
    "# printed as 0/1 values\n",
    "print(pos.astype(int))\n",
    "# the true indices\n",
    "print(indices)\n",
    "# selecting a random index\n",
    "print('Random index of a 1 entry of y:',np.random.choice(indices))"
   ]
  },
  {
   "cell_type": "markdown",
   "metadata": {},
   "source": [
    "If we have two filters a and b, we can combine them using Pythons bitwise operators: a&b is the intersection, a|b is the union, and ~a is the complement of a. This is useful when plotting e.g. the data points with label -1 that are classified incorrectly by the hyperplane, or combined with np.random.choise(indices)"
   ]
  },
  {
   "cell_type": "markdown",
   "metadata": {},
   "source": [
    "## Vectorization (Vector Operations with numpy)\n",
    "\n",
    "What we mean by vectorization is doing batch processing of data avoiding the explicit use of for loops, and instead making use of internal implementations of array operations of NumPy. This is precisely what we did above for constructing filters. Try to experiment yourself! You can time your code using the timeit function of Python. You should find that the speed increase by vectorization is by orders of magnitude!"
   ]
  },
  {
   "cell_type": "code",
   "execution_count": 6,
   "metadata": {},
   "outputs": [
    {
     "name": "stdout",
     "output_type": "stream",
     "text": [
      "7.49 µs ± 1.19 µs per loop (mean ± std. dev. of 7 runs, 100 loops each)\n",
      "2.24 ms ± 127 µs per loop (mean ± std. dev. of 7 runs, 100 loops each)\n"
     ]
    }
   ],
   "source": [
    "import timeit\n",
    "\n",
    "def vectorized(y):\n",
    "    pos = (y==1)\n",
    "    return pos\n",
    "    \n",
    "def not_vectorized(y):\n",
    "    len = y.shape[0]\n",
    "    pos = np.zeros(len)\n",
    "    for i in range(len):\n",
    "        pos = y[i]==1\n",
    "    return y\n",
    "\n",
    "y = 2*np.random.randint(2, size=10000)-1\n",
    "\n",
    "%timeit -n 100 vectorized(y)\n",
    "%timeit -n 100 not_vectorized(y)"
   ]
  },
  {
   "cell_type": "markdown",
   "metadata": {},
   "source": [
    "Notice also the use here of [broadcasting](http://docs.scipy.org/doc/numpy/user/basics.broadcasting.html). For instance, in the line defining y, when we multiply the random array with 2, or subtracting 1, in fact the values 2 and 1 are treated as 1 dimensional arrays of size 1, which are then expanded into 1 dimensional arrays of size 10000, where the single entry is duplicated."
   ]
  },
  {
   "cell_type": "markdown",
   "metadata": {},
   "source": [
    "## Operations on vectors and matrices as NumPy arrays\n",
    "\n",
    "In NumPy 1-dimensional arrays naturally models vectors and 2-dimensional arrays naturally models matrices."
   ]
  },
  {
   "cell_type": "code",
   "execution_count": 7,
   "metadata": {},
   "outputs": [
    {
     "name": "stdout",
     "output_type": "stream",
     "text": [
      "a = [1 2 3], ndim=1, shape=(3,)\n",
      "b = [[1 2 3]], ndim=2, shape=(1, 3)\n",
      "c = \n",
      "[[1]\n",
      " [2]\n",
      " [3]], ndim=2, shape=(3, 1)\n",
      "aA = [30 36 42]\n",
      "Aa = [14 32 50]\n",
      "bA = [[30 36 42]]\n",
      "cA = [[14]\n",
      " [32]\n",
      " [50]]\n"
     ]
    }
   ],
   "source": [
    "a = np.array([1,2,3])     # 3-dimensional vector\n",
    "b = np.array([[1,2,3]])   # 3-dimensional row vector (1x3 matrix)\n",
    "c = np.array([[1,2,3]]).T # 3-dimensional column vector (3x1 matrix)\n",
    "print('a = {}, ndim={}, shape={}'.format(a,a.ndim, a.shape))\n",
    "print('b = {}, ndim={}, shape={}'.format(b,b.ndim, b.shape))\n",
    "print('c = \\n{}, ndim={}, shape={}'.format(c,c.ndim, c.shape))\n",
    "A=np.arange(1,10).reshape(3,3)\n",
    "print('aA =',np.dot(a,A))\n",
    "print('Aa =',np.dot(A,a))\n",
    "print('bA =',np.dot(b,A))\n",
    "print('cA =',np.dot(A,c))"
   ]
  },
  {
   "cell_type": "markdown",
   "metadata": {},
   "source": [
    "Notice that when multiplying the vector <tt>a</tt>\n",
    "with the matrix <tt>A</tt> on the left, <tt>a</tt> behaves as a row vector, and when multiplying on the right <tt>a</tt> behaves as a column vector. The result is always a vector, whereas when multiplying by the corresponding row and column vectors <tt>b</tt> and <tt>c</tt> the result is again a row or column vector (since it is actually a matrix product).\n",
    "\n",
    "With Python 3.5 and above we may also use the <tt>@</tt> operator, which is a shorthand for the matmul function (which can be used instead of the dot function)."
   ]
  },
  {
   "cell_type": "code",
   "execution_count": 8,
   "metadata": {},
   "outputs": [
    {
     "name": "stdout",
     "output_type": "stream",
     "text": [
      "aA = [30 36 42]\n",
      "Aa = [14 32 50]\n",
      "bA = [[30 36 42]]\n",
      "cA = [[14]\n",
      " [32]\n",
      " [50]]\n"
     ]
    }
   ],
   "source": [
    "print('aA =',a@A)\n",
    "print('Aa =',A@a)\n",
    "print('bA =',b@A)\n",
    "print('cA =',A@c)"
   ]
  },
  {
   "cell_type": "markdown",
   "metadata": {},
   "source": [
    "You should mainly use just 1-dimensional arrays for vectors. One can convert between these and row and column vectors as follows:"
   ]
  },
  {
   "cell_type": "code",
   "execution_count": 9,
   "metadata": {},
   "outputs": [
    {
     "name": "stdout",
     "output_type": "stream",
     "text": [
      "a as a row vector : [[1 2 3]]\n",
      "a as a column vector :\n",
      " [[1]\n",
      " [2]\n",
      " [3]]\n",
      "b and c as vectors : [1 2 3] [1 2 3]\n"
     ]
    }
   ],
   "source": [
    "print('a as a row vector :',np.expand_dims(a,axis=0))\n",
    "print('a as a column vector :\\n',np.expand_dims(a,axis=1))\n",
    "print('b and c as vectors :', b.squeeze(),c.squeeze())"
   ]
  },
  {
   "cell_type": "markdown",
   "metadata": {},
   "source": [
    "So what are row and column vectors good for? In conjuction with broadcasting! Suppose we have an array of numbers, one for each row of the matrix, and we wish to subtract the given number for a row from each entry of the row. We can do this by just subtracting a column vector."
   ]
  },
  {
   "cell_type": "code",
   "execution_count": 10,
   "metadata": {},
   "outputs": [
    {
     "name": "stdout",
     "output_type": "stream",
     "text": [
      "[[0 0 0]\n",
      " [3 3 3]\n",
      " [6 6 6]]\n",
      "[[0 0 0]\n",
      " [3 3 3]\n",
      " [6 6 6]]\n",
      "[[0 1 2]\n",
      " [2 3 4]\n",
      " [4 5 6]]\n"
     ]
    }
   ],
   "source": [
    "print(A-a) # subtracting a vector, the vector behaves as a row vector.\n",
    "print(A-b) # subtracting a row vector.\n",
    "print(A-c) # subtracting a column vector"
   ]
  },
  {
   "cell_type": "markdown",
   "metadata": {},
   "source": [
    "Often this happens in the situation where the vector has been computed from the matrix, say with the <tt>mean</tt> operation.\n",
    "In this case it is convinient to use the <tt>keepdims</tt> parameter. Actually, it can be a good idea to always explicitly use row or column vectors for this purpose to avoid confusion and bugs."
   ]
  },
  {
   "cell_type": "code",
   "execution_count": 11,
   "metadata": {},
   "outputs": [
    {
     "name": "stdout",
     "output_type": "stream",
     "text": [
      "The matrix A:\n",
      " [[1 2 3]\n",
      " [4 5 6]\n",
      " [7 8 9]]\n",
      "The means of the rows of A:  [ 2.  5.  8.]\n",
      "and as a column vector:\n",
      " [[ 2.]\n",
      " [ 5.]\n",
      " [ 8.]]\n",
      "Each row translated around the mean:\n",
      " [[-1.  0.  1.]\n",
      " [-1.  0.  1.]\n",
      " [-1.  0.  1.]]\n",
      "And this is not what we wanted:\n",
      " [[ -5 -13 -21]\n",
      " [ -2 -10 -18]\n",
      " [  1  -7 -15]]\n"
     ]
    }
   ],
   "source": [
    "print('The matrix A:\\n',A)\n",
    "print('The means of the rows of A: ',np.mean(A,axis=1))\n",
    "print('and as a column vector:\\n',np.mean(A,axis=1,keepdims=True))\n",
    "print('Each row translated around the mean:\\n',A-np.mean(A,axis=1,keepdims=True))\n",
    "print('And this is not what we wanted:\\n',A-np.sum(A,axis=1))"
   ]
  },
  {
   "cell_type": "markdown",
   "metadata": {},
   "source": [
    "## Workflow of development with IPython\n",
    "\n",
    "You can load and run code files and use within IPython. We can work on a [code file](mycode.py) in an editor, and then load and run it from IPython. The simplest was is by using the built-in magic command %run. This loads and directly runs the code file as a python script. The script is run into the interactive workspace."
   ]
  },
  {
   "cell_type": "code",
   "execution_count": 12,
   "metadata": {},
   "outputs": [
    {
     "name": "stderr",
     "output_type": "stream",
     "text": [
      "ERROR:root:File `'mycode.py'` not found.\n"
     ]
    }
   ],
   "source": [
    "%run mycode"
   ]
  },
  {
   "cell_type": "markdown",
   "metadata": {},
   "source": [
    "Another option is to import the code file as a module. To get Ipython to check for updates in your code you must use the magic commands \n",
    "%load_ext autoreload \n",
    "and \n",
    "%autoreload 2"
   ]
  },
  {
   "cell_type": "code",
   "execution_count": 1,
   "metadata": {},
   "outputs": [
    {
     "ename": "ModuleNotFoundError",
     "evalue": "No module named 'mycode'",
     "output_type": "error",
     "traceback": [
      "\u001b[0;31m---------------------------------------------------------------------------\u001b[0m",
      "\u001b[0;31mModuleNotFoundError\u001b[0m                       Traceback (most recent call last)",
      "\u001b[0;32m<ipython-input-1-2137f61e1377>\u001b[0m in \u001b[0;36m<module>\u001b[0;34m()\u001b[0m\n\u001b[1;32m      2\u001b[0m \u001b[0mget_ipython\u001b[0m\u001b[0;34m(\u001b[0m\u001b[0;34m)\u001b[0m\u001b[0;34m.\u001b[0m\u001b[0mrun_line_magic\u001b[0m\u001b[0;34m(\u001b[0m\u001b[0;34m'autoreload'\u001b[0m\u001b[0;34m,\u001b[0m \u001b[0;34m'2'\u001b[0m\u001b[0;34m)\u001b[0m\u001b[0;34m\u001b[0m\u001b[0m\n\u001b[1;32m      3\u001b[0m \u001b[0;34m\u001b[0m\u001b[0m\n\u001b[0;32m----> 4\u001b[0;31m \u001b[0;32mimport\u001b[0m \u001b[0mmycode\u001b[0m\u001b[0;34m\u001b[0m\u001b[0m\n\u001b[0m\u001b[1;32m      5\u001b[0m \u001b[0mmycode\u001b[0m\u001b[0;34m.\u001b[0m\u001b[0mmain\u001b[0m\u001b[0;34m(\u001b[0m\u001b[0;34m)\u001b[0m\u001b[0;34m\u001b[0m\u001b[0m\n\u001b[1;32m      6\u001b[0m \u001b[0;31m# After editing the file, we can reload and run\u001b[0m\u001b[0;34m\u001b[0m\u001b[0;34m\u001b[0m\u001b[0m\n",
      "\u001b[0;31mModuleNotFoundError\u001b[0m: No module named 'mycode'"
     ]
    }
   ],
   "source": [
    "%load_ext autoreload\n",
    "%autoreload 2\n",
    "\n",
    "import mycode\n",
    "mycode.main()\n",
    "# After editing the file, we can reload and run\n"
   ]
  },
  {
   "cell_type": "code",
   "execution_count": null,
   "metadata": {},
   "outputs": [],
   "source": []
  }
 ],
 "metadata": {
  "anaconda-cloud": {},
  "kernelspec": {
   "display_name": "Python 3",
   "language": "python",
   "name": "python3"
  },
  "language_info": {
   "codemirror_mode": {
    "name": "ipython",
    "version": 3
   },
   "file_extension": ".py",
   "mimetype": "text/x-python",
   "name": "python",
   "nbconvert_exporter": "python",
   "pygments_lexer": "ipython3",
   "version": "3.8.3-final"
  }
 },
 "nbformat": 4,
 "nbformat_minor": 2
}